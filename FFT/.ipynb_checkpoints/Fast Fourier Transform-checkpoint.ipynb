{
 "cells": [
  {
   "cell_type": "markdown",
   "id": "167de34d",
   "metadata": {},
   "source": [
    "# Teknik Analisis Data"
   ]
  },
  {
   "cell_type": "markdown",
   "id": "41359aff",
   "metadata": {},
   "source": [
    "## Membaca data"
   ]
  },
  {
   "cell_type": "code",
   "execution_count": 2,
   "id": "cc190687",
   "metadata": {},
   "outputs": [],
   "source": [
    "import netCDF4 as nc\n",
    "import numpy as np\n",
    "import matplotlib.pyplot as plt"
   ]
  },
  {
   "cell_type": "code",
   "execution_count": 4,
   "id": "fcea18b0",
   "metadata": {},
   "outputs": [],
   "source": [
    "path_name = './sealevelpressure.nc'\n",
    "ds = nc.Dataset(path_name)"
   ]
  },
  {
   "cell_type": "code",
   "execution_count": 5,
   "id": "bf71b0f1",
   "metadata": {},
   "outputs": [
    {
     "name": "stdout",
     "output_type": "stream",
     "text": [
      "<class 'netCDF4._netCDF4.Dataset'>\n",
      "root group (NETCDF3_64BIT_OFFSET data model, file format NETCDF3):\n",
      "    Conventions: CF-1.6\n",
      "    history: 2020-11-11 13:36:56 GMT by grib_to_netcdf-2.16.0: /opt/ecmwf/eccodes/bin/grib_to_netcdf -o /cache/data9/adaptor.mars.internal-1605092130.284248-17418-3-d0b6cfd8-bbcb-4f6b-ade5-ac89285917b7.nc /cache/tmp/d0b6cfd8-bbcb-4f6b-ade5-ac89285917b7-adaptor.mars.internal-1605092130.285415-17418-2-tmp.grib\n",
      "    dimensions(sizes): longitude(21), latitude(21), time(87648)\n",
      "    variables(dimensions): float32 longitude(longitude), float32 latitude(latitude), int32 time(time), int16 msl(time, latitude, longitude)\n",
      "    groups: \n"
     ]
    }
   ],
   "source": [
    "print(ds)"
   ]
  },
  {
   "cell_type": "code",
   "execution_count": 6,
   "id": "68c81ee4",
   "metadata": {},
   "outputs": [
    {
     "name": "stdout",
     "output_type": "stream",
     "text": [
      "<class 'netCDF4._netCDF4.Dimension'>: name = 'longitude', size = 21\n",
      "<class 'netCDF4._netCDF4.Dimension'>: name = 'latitude', size = 21\n",
      "<class 'netCDF4._netCDF4.Dimension'>: name = 'time', size = 87648\n"
     ]
    }
   ],
   "source": [
    "for dim in ds.dimensions.values():\n",
    "    print(dim)"
   ]
  },
  {
   "cell_type": "code",
   "execution_count": 16,
   "id": "ba9f939c",
   "metadata": {},
   "outputs": [
    {
     "data": {
      "text/plain": [
       "masked_array(data=[100929.73384497, 100981.38505505, 101021.94922882, ...,\n",
       "                   101144.70126215, 101103.6830118 , 101250.12270631],\n",
       "             mask=False,\n",
       "       fill_value=1e+20)"
      ]
     },
     "execution_count": 16,
     "metadata": {},
     "output_type": "execute_result"
    }
   ],
   "source": [
    "ds['msl'][:,5,5]"
   ]
  }
 ],
 "metadata": {
  "kernelspec": {
   "display_name": "TAD",
   "language": "python",
   "name": "tad"
  },
  "language_info": {
   "codemirror_mode": {
    "name": "ipython",
    "version": 3
   },
   "file_extension": ".py",
   "mimetype": "text/x-python",
   "name": "python",
   "nbconvert_exporter": "python",
   "pygments_lexer": "ipython3",
   "version": "3.10.4"
  }
 },
 "nbformat": 4,
 "nbformat_minor": 5
}
